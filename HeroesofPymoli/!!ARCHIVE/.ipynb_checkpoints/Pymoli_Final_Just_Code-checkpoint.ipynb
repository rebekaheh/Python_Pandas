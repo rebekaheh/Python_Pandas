{
 "cells": [
  {
   "cell_type": "code",
   "execution_count": null,
   "metadata": {},
   "outputs": [],
   "source": [
    "# Dependencies and Setup\n",
    "import pandas as pd\n",
    "import numpy as np\n",
    "\n",
    "purchase_data = pd.read_csv(r\"C:\\Users\\RebekahDSK\\Desktop\\gwu-arl-data-pt-09-2020-u-c\\02-Homework\\04-Python-Pandas\\02-Case-Assignment\\Instructions\\HeroesOfPymoli\\Resources\\purchase_data.csv\")"
   ]
  },
  {
   "cell_type": "code",
   "execution_count": null,
   "metadata": {},
   "outputs": [],
   "source": [
    "# PLAYER COUNT"
   ]
  },
  {
   "cell_type": "code",
   "execution_count": null,
   "metadata": {},
   "outputs": [],
   "source": [
    "# Total Number of Players\n",
    "Total = len(purchase_data['SN'].unique())\n",
    "Total"
   ]
  },
  {
   "cell_type": "code",
   "execution_count": null,
   "metadata": {},
   "outputs": [],
   "source": [
    "# PURCHASING ANALYSIS (TOTAL)"
   ]
  },
  {
   "cell_type": "code",
   "execution_count": null,
   "metadata": {
    "scrolled": true
   },
   "outputs": [],
   "source": [
    "# Number of Unique Items\n",
    "Number_Unique_Items = len(purchase_data[\"Item Name\"].unique())\n",
    "Number_Unique_Items"
   ]
  },
  {
   "cell_type": "code",
   "execution_count": null,
   "metadata": {},
   "outputs": [],
   "source": [
    "# Average Purchase Price\n",
    "Average_Purchase_Price = purchase_data[\"Price\"].mean()\n",
    "Average_Purchase_Price"
   ]
  },
  {
   "cell_type": "code",
   "execution_count": null,
   "metadata": {},
   "outputs": [],
   "source": [
    "# Total Number of Purchases\n",
    "Number_of_Purchases = purchase_data[\"Purchase ID\"].count()\n",
    "Number_of_Purchases"
   ]
  },
  {
   "cell_type": "code",
   "execution_count": null,
   "metadata": {},
   "outputs": [],
   "source": [
    "# Total Revenue\n",
    "Revenue = purchase_data[\"Price\"].sum()\n",
    "Revenue"
   ]
  },
  {
   "cell_type": "code",
   "execution_count": null,
   "metadata": {},
   "outputs": [],
   "source": [
    "# Display Purchasing Analysis\n",
    "Purchasing_Dictionary = {\"Number of Unique Items\": [Number_Unique_Items], \n",
    "                         \"Average Purchase Price\": [Average_Purchase_Price], \n",
    "                         \"Total Number of Purchases\": [Number_of_Purchases], \n",
    "                         \"Total Revenue\": [Revenue]}\n",
    "pd.DataFrame.from_dict(Purchasing_Dictionary, orient='index')"
   ]
  },
  {
   "cell_type": "code",
   "execution_count": null,
   "metadata": {},
   "outputs": [],
   "source": [
    "# GENDER DEMOGRAPHICS\n",
    "    # percentage and count of male players\n",
    "    # percentage and count of female players\n",
    "    # percentage and count of other/non-disclosed players"
   ]
  },
  {
   "cell_type": "code",
   "execution_count": null,
   "metadata": {},
   "outputs": [],
   "source": [
    "# Create a variable to capture individual genders\n",
    "BoyGirlOther = purchase_data.groupby('Gender')"
   ]
  },
  {
   "cell_type": "code",
   "execution_count": null,
   "metadata": {},
   "outputs": [],
   "source": [
    "# Isolate Male players from Gender column\n",
    "Male_Players = BoyGirlOther.get_group('Male')\n",
    "Male_Players"
   ]
  },
  {
   "cell_type": "code",
   "execution_count": null,
   "metadata": {},
   "outputs": [],
   "source": [
    "# Determine the unique number of Male Players\n",
    "Unique_Male = len(Male_Players['SN'].unique())\n",
    "Unique_Male"
   ]
  },
  {
   "cell_type": "code",
   "execution_count": null,
   "metadata": {},
   "outputs": [],
   "source": [
    "# Isolate Female players from the Gender column\n",
    "Female_Players = BoyGirlOther.get_group('Female')\n",
    "Female_Players"
   ]
  },
  {
   "cell_type": "code",
   "execution_count": null,
   "metadata": {},
   "outputs": [],
   "source": [
    "# Determine the unique number of Female Players\n",
    "Unique_Female = len(Female_Players['SN'].unique())\n",
    "Unique_Female"
   ]
  },
  {
   "cell_type": "code",
   "execution_count": null,
   "metadata": {},
   "outputs": [],
   "source": [
    "# Isolate Other Players from Gender column\n",
    "Other_Players = BoyGirlOther.get_group('Other / Non-Disclosed')\n",
    "Other_Players"
   ]
  },
  {
   "cell_type": "code",
   "execution_count": null,
   "metadata": {},
   "outputs": [],
   "source": [
    "# Determine the unique number of Other/Non-Disclosed Players\n",
    "Unique_Other = len(Other_Players['SN'].unique())\n",
    "Unique_Other"
   ]
  },
  {
   "cell_type": "code",
   "execution_count": null,
   "metadata": {},
   "outputs": [],
   "source": [
    "# Determine the total number of Male, Female, and Other/Non-Disclosed Players\n",
    "Total = Unique_Male + Unique_Female + Unique_Other\n",
    "Total"
   ]
  },
  {
   "cell_type": "code",
   "execution_count": null,
   "metadata": {},
   "outputs": [],
   "source": [
    "# Percentage of Male Players\n",
    "Percent_Male = (Unique_Male/Total)\n",
    "Percent_Male\n",
    "percentage = \"{:.2%}\".format(Percent_Male)\n",
    "percentage"
   ]
  },
  {
   "cell_type": "code",
   "execution_count": null,
   "metadata": {},
   "outputs": [],
   "source": [
    "# Percentage of Femaled(Unique_Female/Total)*100,2)\n",
    "Percent_Female = (Unique_Female/Total)\n",
    "Percent_Female\n",
    "percentage = \"{:.2%}\".format(Percent_Female)\n",
    "percentage"
   ]
  },
  {
   "cell_type": "code",
   "execution_count": null,
   "metadata": {},
   "outputs": [],
   "source": [
    "# Percentage of Other/Non-Disclosed Players\n",
    "Percent_Other = (Unique_Other/Total)\n",
    "Percent_Other\n",
    "percentage = \"{:.2%}\".format(Percent_Other)\n",
    "percentage"
   ]
  },
  {
   "cell_type": "code",
   "execution_count": null,
   "metadata": {},
   "outputs": [],
   "source": [
    "# Create a Dictionary to hold chart information\n",
    "Gender_Dictionary = {\"Gender\": [\"Male\", \"Female\", \"Other/Non-Disclosed\"],\n",
    "                     \"Count\": [Unique_Male, Unique_Female, Unique_Other], \n",
    "                     \"Percentage\": [Percent_Male, Percent_Female, Percent_Other]}\n"
   ]
  },
  {
   "cell_type": "code",
   "execution_count": null,
   "metadata": {},
   "outputs": [],
   "source": [
    "# Display a chart with the Genders, Count of Genders, and Percentages of Genders\n",
    "Gender_Demographics = pd.DataFrame.from_dict(Gender_Dictionary, orient = 'columns')\n",
    "Gender_Demographics['Percentage'] = Gender_Demographics['Percentage'].map(\"{:.2%}\".format)\n",
    "Gender_Demographics"
   ]
  },
  {
   "cell_type": "code",
   "execution_count": null,
   "metadata": {},
   "outputs": [],
   "source": [
    "# PURCHASING ANALYSIS (GENDER)\n",
    "    # Purchase count\n",
    "    # Average Purchase Price\n",
    "    # Total Purchase Value\n",
    "    # Average Purcase Total per Person by Gender"
   ]
  },
  {
   "cell_type": "code",
   "execution_count": null,
   "metadata": {},
   "outputs": [],
   "source": [
    "# Determine the Purchase Count of Male Players\n",
    "Male_Purchase_Count = len(Male_Players['Purchase ID'].unique())\n",
    "Male_Purchase_Count"
   ]
  },
  {
   "cell_type": "code",
   "execution_count": null,
   "metadata": {},
   "outputs": [],
   "source": [
    "# Determine the Purchase Count of Female Players\n",
    "Female_Purchase_Count = len(Female_Players['Purchase ID'].unique())\n",
    "Female_Purchase_Count"
   ]
  },
  {
   "cell_type": "code",
   "execution_count": null,
   "metadata": {},
   "outputs": [],
   "source": [
    "# Determine the Purchase Count of Other/Non-Disclosed Players\n",
    "Other_Purchase_Count = len(Other_Players['Purchase ID'].unique())\n",
    "Other_Purchase_Count"
   ]
  },
  {
   "cell_type": "code",
   "execution_count": null,
   "metadata": {},
   "outputs": [],
   "source": [
    "# Determine the total Purchase Value by Male Players\n",
    "Total_Male_Purchase = Male_Players['Price'].sum()\n",
    "Total_Male_Purchase"
   ]
  },
  {
   "cell_type": "code",
   "execution_count": null,
   "metadata": {},
   "outputs": [],
   "source": [
    "# Determine the total Purchase Value by Female Players\n",
    "Total_Female_Purchase = Female_Players['Price'].sum()\n",
    "Total_Female_Purchase"
   ]
  },
  {
   "cell_type": "code",
   "execution_count": null,
   "metadata": {},
   "outputs": [],
   "source": [
    "# Determine the total Purchase Value by Other/Non-Disclosed Players\n",
    "Total_Other_Purchase = Other_Players['Price'].sum()\n",
    "Total_Other_Purchase"
   ]
  },
  {
   "cell_type": "code",
   "execution_count": null,
   "metadata": {},
   "outputs": [],
   "source": [
    "# Determine the Average Purchase Price per Male Players\n",
    "Avg_Male_Purchase_Price = Male_Players['Price'].mean()\n",
    "Avg_Male_Purchase_Price\n"
   ]
  },
  {
   "cell_type": "code",
   "execution_count": null,
   "metadata": {},
   "outputs": [],
   "source": [
    "# Determine the Average Purchase Price per Female Players\n",
    "Avg_Female_Purchase_Price = Female_Players['Price'].mean()\n",
    "Avg_Female_Purchase_Price"
   ]
  },
  {
   "cell_type": "code",
   "execution_count": null,
   "metadata": {},
   "outputs": [],
   "source": [
    "# Determine the Average Purchase Price per Other/Non-Disclosed Players\n",
    "Avg_Other_Purchase_Price = Other_Players['Price'].mean()\n",
    "Avg_Other_Purchase_Price"
   ]
  },
  {
   "cell_type": "code",
   "execution_count": null,
   "metadata": {},
   "outputs": [],
   "source": [
    "# Determine the Average Purchase Total per Person by Male\n",
    "Per_Male=Total_Male_Purchase/Unique_Male\n",
    "Per_Male"
   ]
  },
  {
   "cell_type": "code",
   "execution_count": null,
   "metadata": {},
   "outputs": [],
   "source": [
    "# Determine the Average Purchase Total per Person by Female\n",
    "Per_Female=Total_Female_Purchase/Unique_Female\n",
    "Per_Female"
   ]
  },
  {
   "cell_type": "code",
   "execution_count": null,
   "metadata": {},
   "outputs": [],
   "source": [
    "# Determine the Average Purchase Total per Person by Other/Non-Disclosed\n",
    "Per_Other=Total_Other_Purchase/Unique_Other\n",
    "Per_Other"
   ]
  },
  {
   "cell_type": "code",
   "execution_count": null,
   "metadata": {},
   "outputs": [],
   "source": [
    "#Create a Dictionary and DataFrame to show Purchase Analysis\n",
    "Purchase_Dictionary = {'Gender': ['Male', 'Female', 'Other/Non-Disclosed'], \n",
    "                       'Purchase Count': [Male_Purchase_Count, Female_Purchase_Count, Other_Purchase_Count], \n",
    "                       'Avgerage Purchase Price': [Avg_Male_Purchase_Price, Avg_Female_Purchase_Price, Avg_Other_Purchase_Price], \"Total Purchase Value\": [Total_Male_Purchase, Total_Female_Purchase, Total_Other_Purchase], \"Purchase Total/Person/Gender\": [Per_Male, Per_Female, Per_Other]}\n",
    "Purchase_Analysis = pd.DataFrame.from_dict(Purchase_Dictionary, orient='columns')\n",
    "Purchase_Analysis\n",
    "\n"
   ]
  },
  {
   "cell_type": "code",
   "execution_count": null,
   "metadata": {},
   "outputs": [],
   "source": [
    "# AGE DEMOGRAPHICS\n",
    "    # Establish 8 bins for ages (range of age = 4)\n",
    "    # Per age bin, find:\n",
    "        # Purchase Count\n",
    "        # Averge Purchase Price\n",
    "        # Total Purchase Value\n",
    "        # Average Purchase Total per Person by Age Group"
   ]
  },
  {
   "cell_type": "code",
   "execution_count": null,
   "metadata": {},
   "outputs": [],
   "source": [
    "# Create bins for age groups\n",
    "labels = ['<10', '10-14', '15-19', '20-24', '25-29', '30-34', '35-39', '40+']\n",
    "bins = [0, 9.90, 14.90, 19.90, 24.90, 29.90, 34.90, 39.90, 99999]\n",
    "purchase_data['Age Groups'] = pd.cut(purchase_data['Age'], bins=bins, labels=labels)\n",
    "Age_Groups"
   ]
  },
  {
   "cell_type": "code",
   "execution_count": null,
   "metadata": {},
   "outputs": [],
   "source": [
    "# To work with de-duped ages, create a new age DataFrame whith the dups dropped from 'SN'\n",
    "Age_df = purchase_data.drop_duplicates(\"SN\")\n",
    "Age_df"
   ]
  },
  {
   "cell_type": "code",
   "execution_count": null,
   "metadata": {},
   "outputs": [],
   "source": [
    "# Add Age Groups to the DataFrame\n",
    "Age_Group_df = Age_df.groupby(\"Age Groups\").count()\n",
    "Age_Group_df"
   ]
  },
  {
   "cell_type": "code",
   "execution_count": null,
   "metadata": {},
   "outputs": [],
   "source": [
    "# Rename the 'Purchase ID' column to 'Total Count'\n",
    "Age_Group2_df = Age_Group_df.rename(columns={\"Purchase ID\": \"Total Count\"})\n",
    "Age_Group2_df"
   ]
  },
  {
   "cell_type": "code",
   "execution_count": null,
   "metadata": {},
   "outputs": [],
   "source": [
    "# Determine the percentage each age group makes up\n",
    "Players_Percentage = Age_Group2_df[\"Total Count\"]/ Total*100\n",
    "Age_Group2_df[\"Percentage of Players\"]= Players_Percentage\n",
    "Players_Percentage"
   ]
  },
  {
   "cell_type": "code",
   "execution_count": null,
   "metadata": {},
   "outputs": [],
   "source": [
    "# Display the desired data to show age groups, count and percentage\n",
    "Age_Final_df = Age_Group2_df[[\"Total Count\", \"Percentage of Players\"]]\n",
    "Age_Final_df"
   ]
  },
  {
   "cell_type": "code",
   "execution_count": null,
   "metadata": {},
   "outputs": [],
   "source": [
    "# Determine the purchase count of each age group\n",
    "purchase_count = purchase_data.groupby(\"Age Groups\")[\"Purchase ID\"].count()\n",
    "purchase_count"
   ]
  },
  {
   "cell_type": "code",
   "execution_count": null,
   "metadata": {},
   "outputs": [],
   "source": [
    "# Determine the average purchase price of each age group\n",
    "average_purchase_price = purchase_data.groupby(\"Age Groups\")[\"Price\"].mean()\n",
    "average_purchase_price"
   ]
  },
  {
   "cell_type": "code",
   "execution_count": null,
   "metadata": {},
   "outputs": [],
   "source": [
    "# Determine the total purchase value of each age group\n",
    "total_purchase_value = purchase_data.groupby(\"Age Groups\")[\"Price\"].sum()\n",
    "total_purchase_value"
   ]
  },
  {
   "cell_type": "code",
   "execution_count": null,
   "metadata": {},
   "outputs": [],
   "source": [
    "# Determine the average purchase total per person by age group\n",
    "average_purchase_total = total_purchase_value/Age_Final_df[\"Total Count\"]\n",
    "average_purchase_total"
   ]
  },
  {
   "cell_type": "code",
   "execution_count": null,
   "metadata": {},
   "outputs": [],
   "source": [
    "Age_Demographics = pd.DataFrame({\n",
    "    \"Purchase Count\": purchase_count,\n",
    "    \"Average Purchase Price\": average_purchase_price,\n",
    "    \"Total Purchase Value\": total_purchase_value,\n",
    "    \"Average Total Purchase Per Person\": average_purchase_total\n",
    "})\n",
    "Age_Demographics"
   ]
  },
  {
   "cell_type": "code",
   "execution_count": null,
   "metadata": {},
   "outputs": [],
   "source": [
    "# TOP SPENDERS\n",
    "    # Identify the top 5 spenders in the game by total purchase value, then list in a table:\n",
    "        # SN\n",
    "        # Purchase Count\n",
    "        # Average Purchase Price\n",
    "        # Total Purchase Value"
   ]
  },
  {
   "cell_type": "code",
   "execution_count": null,
   "metadata": {},
   "outputs": [],
   "source": [
    "New_Data = purchase_data.set_index(\"SN\")\n",
    "New_Data"
   ]
  },
  {
   "cell_type": "code",
   "execution_count": null,
   "metadata": {},
   "outputs": [],
   "source": [
    "# Determine the number of purchases each person made\n",
    "purchase_count = New_Data.groupby(\"SN\")[\"Purchase ID\"].count()\n",
    "purchase_count"
   ]
  },
  {
   "cell_type": "code",
   "execution_count": null,
   "metadata": {},
   "outputs": [],
   "source": [
    "# Determine the Total Purchase Value per person\n",
    "total_puchase_value = New_Data.groupby(\"SN\")[\"Price\"].sum\n",
    "total_puchase_value"
   ]
  },
  {
   "cell_type": "code",
   "execution_count": null,
   "metadata": {},
   "outputs": [],
   "source": [
    "# Determine Average Purchase Price per person\n",
    "average_purchase_price = New_Data.groupby(\"SN\")[\"Price\"].mean()\n",
    "average_purchase_price"
   ]
  },
  {
   "cell_type": "code",
   "execution_count": null,
   "metadata": {},
   "outputs": [],
   "source": [
    "# Create a DataFrame to hold 'Purchase Count' and 'Total Purchase Value'\n",
    "Purchases_Summary = pd.DataFrame({\n",
    "    \"Purchase Count\": purchase_count,\n",
    "    \"Total Purchase Value\": total_purchase_value,\n",
    "    \"Average Purchase Price\": average_purchase_price\n",
    "})\n"
   ]
  },
  {
   "cell_type": "code",
   "execution_count": null,
   "metadata": {},
   "outputs": [],
   "source": [
    "purchase_final_df = Purchases_Summary.sort_values(\"Purchase Count\", ascending=False)\n",
    "purchase_final_df.head(5)"
   ]
  },
  {
   "cell_type": "code",
   "execution_count": null,
   "metadata": {},
   "outputs": [],
   "source": [
    "# Isolate and retrieve Item ID, Item Name, and Price\n",
    "Popular_Items = purchase_data[[\"Item ID\",\"Item Name\", \"Price\"]]\n",
    "Popular_Items"
   ]
  },
  {
   "cell_type": "code",
   "execution_count": null,
   "metadata": {},
   "outputs": [],
   "source": [
    "# Separate these items by Item ID and Item Name\n",
    "popular_group = Popular_Items.groupby([\"Item ID\", \"Item Name\", \"Price\"])\n",
    "popular_group"
   ]
  },
  {
   "cell_type": "code",
   "execution_count": null,
   "metadata": {},
   "outputs": [],
   "source": [
    "# Determine the number of times a specific item was purchased\n",
    "purchase_count = popular_group[\"Price\"].count()\n",
    "purchase_count"
   ]
  },
  {
   "cell_type": "code",
   "execution_count": null,
   "metadata": {},
   "outputs": [],
   "source": [
    "# Determine the top items Total Purchase Value\n",
    "total_purchase_value = popular_group[\"Price\"].sum()\n",
    "total_purchase_value"
   ]
  },
  {
   "cell_type": "code",
   "execution_count": null,
   "metadata": {},
   "outputs": [],
   "source": [
    "# Create a DataFrame to hold 'Purchase Count' and 'Total Purchase Value'\n",
    "Popular_Item_Summary = pd.DataFrame({\n",
    "    \"Purchase Count\": purchase_count,\n",
    "    \"Purchase Value\": total_purchase_value\n",
    "})\n",
    "Popular_Item_Summary"
   ]
  },
  {
   "cell_type": "code",
   "execution_count": null,
   "metadata": {},
   "outputs": [],
   "source": [
    "# By 'Purchase Count'\n",
    "popular_final_df = Popular_Item_Summary.sort_values(\"Purchase Count\", ascending=False)\n",
    "popular_final_df.head(5)"
   ]
  },
  {
   "cell_type": "code",
   "execution_count": null,
   "metadata": {},
   "outputs": [],
   "source": [
    "\n",
    "# MOST PROFITABLE ITEMS\n",
    "    # Identify the 5 most profitable items by total purchase value, then list in a table:\n",
    "        # Item ID\n",
    "        # Item Name\n",
    "        # Purchase Count\n",
    "        # Item Price\n",
    "        # Total Purchase Value"
   ]
  },
  {
   "cell_type": "code",
   "execution_count": null,
   "metadata": {},
   "outputs": [],
   "source": [
    "# By Purchase Value\n",
    "popular_final_df = Popular_Item_Summary.sort_values(\"Purchase Value\", ascending=False)\n",
    "popular_final_df.tail(5)"
   ]
  }
 ],
 "metadata": {
  "anaconda-cloud": {},
  "kernel_info": {
   "name": "python3"
  },
  "kernelspec": {
   "display_name": "Python 3",
   "language": "python",
   "name": "python3"
  },
  "language_info": {
   "codemirror_mode": {
    "name": "ipython",
    "version": 3
   },
   "file_extension": ".py",
   "mimetype": "text/x-python",
   "name": "python",
   "nbconvert_exporter": "python",
   "pygments_lexer": "ipython3",
   "version": "3.8.3"
  },
  "latex_envs": {
   "LaTeX_envs_menu_present": true,
   "autoclose": false,
   "autocomplete": true,
   "bibliofile": "biblio.bib",
   "cite_by": "apalike",
   "current_citInitial": 1,
   "eqLabelWithNumbers": true,
   "eqNumInitial": 1,
   "hotkeys": {
    "equation": "Ctrl-E",
    "itemize": "Ctrl-I"
   },
   "labels_anchors": false,
   "latex_user_defs": false,
   "report_style_numbering": false,
   "user_envs_cfg": false
  },
  "nteract": {
   "version": "0.2.0"
  }
 },
 "nbformat": 4,
 "nbformat_minor": 2
}
